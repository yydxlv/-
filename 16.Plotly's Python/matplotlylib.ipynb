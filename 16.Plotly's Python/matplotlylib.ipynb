{
 "worksheets": [
  {
   "cells": [
    {
     "cell_type": "heading",
     "metadata": {},
     "level": 1,
     "source": [
      "Plotly's Python API User Guide"
     ]
    },
    {
     "cell_type": "heading",
     "metadata": {},
     "level": 2,
     "source": [
      "Section 6: Convert your Matplotlib plots to Plotly"
     ]
    },
    {
     "cell_type": "markdown",
     "metadata": {},
     "source": [
      "Welcome to Plotly's Python API User Guide. \n",
      "\n",
      "> Links to the other sections are on the User Guide's [homepage](https://plot.ly/python/user-guide#Table-of-Contents:) <br>\n",
      "The Github repository is available \n",
      "<a href=\"https://github.com/plotly/python-user-guide\" target=\"_blank\">here</a>"
     ]
    },
    {
     "cell_type": "markdown",
     "metadata": {},
     "source": [
      "Section 6 is divided as follows:\n",
      "\n",
      "* [6.1 Matplotlib to Plotly conversion basics](#6.1-Matplotlib-to-Plotly-conversion-basics)\n",
      "\n",
      "* [6.2 Supported plot types](#6.2-Supported-plot-types)\n",
      "\n",
      "* [6.3 Converting subplots](#6.3-Converting-subplots)\n",
      "\n",
      "* [6.4 The nitty gritty of matplotlylib](#6.4-The-nitty-gritty-of-matplotlylib)"
     ]
    },
    {
     "cell_type": "markdown",
     "metadata": {},
     "source": [
      "Quickstart (make Plotly plot from matplotlib figure object):\n",
      "    \n",
      "    >>> import plotly.plotly as py\n",
      "    >>> import matplotlib.pyplot as plt\n",
      "    >>> # auto sign-in with credentials or use py.sign_in()\n",
      "    >>> mpl_fig_obj= plt.figure()\n",
      "    >>> # ... make a matplotlib figure ...\n",
      "    >>> py.plot_mpl(mpl_fig_obj)  \n",
      " \n",
      "<hr>"
     ]
    },
    {
     "cell_type": "markdown",
     "metadata": {},
     "source": [
      "The User Guide assumes version 1.0 and up of Plotly's Python API. \n",
      "\n",
      "Check which version is installed on your machine and please upgrade if needed. "
     ]
    },
    {
     "cell_type": "code",
     "execution_count": null,
     "metadata": {},
     "outputs": [
      {
       "output_type": "pyout",
       "prompt_number": 1,
       "text": [
        "'1.6.6'"
       ],
       "metadata": {}
      }
     ],
     "input": [
      "# (*) Import plotly package\n",
      "import plotly\n",
      "\n",
      "# Check plolty version (if not latest, please upgrade)\n",
      "plotly.__version__"
     ],
     "language": "python",
     "prompt_number": 1
    },
    {
     "cell_type": "markdown",
     "metadata": {},
     "source": [
      "See the User Guide's <a href=\"https://plot.ly/python/user-guide#Installation-guidelines\" target=\"_blank\">homepage</a> for more info on installation and upgrading. "
     ]
    },
    {
     "cell_type": "markdown",
     "metadata": {},
     "source": [
      "##### Matplotlib + Plotly = Matplotlylib\n",
      "\n",
      "The <a href=\"https://github.com/mpld3/matplotlylib\" target=\"_blank\">matplotlylib</a> project is a collaboration between <a href=\"https://plot.ly/\" target=\"_blank\">Plotly</a>, <a href=\"http://mpld3.github.io/\" target=\"_blank\">mpld3</a> and <a href=\"https://github.com/jakevdp\" target=\"_blank\">Jake Vanderplas</a> that lets you convert matplotlib figures to beautiful <a href=\"http://d3js.org/\" target=\"_blank\">D3.js</a> graphs with Plotly's Python API.\n",
      "\n",
      "The goal of mpld3 is to expand Python's matplotlib plotting package use to the browser. Now, together with Plotly, users can share their plots and data sets online, for free.\n",
      "\n",
      "While Plotly's Python API gives users access to Plotly directly, users may already have high-quality plots that they want to get online and share. Standing on the shoulders of the <a href=\"https://github.com/mpld3/mplexporter\" target=\"_blank\">mplexporter</a>, matplotlylib allows users to convert matplotlib figures to Plotly figures with a simple function call.\n",
      "\n",
      "If your data sets are important to you, they are important to us, and we will help you share them with others. As a bonus, you will be able to use Plotly's awesome interactive web GUI.\n",
      "\n",
      "This section showcases the current state of matplotlylib and how you can incorporate it into your workflow."
     ]
    },
    {
     "cell_type": "markdown",
     "metadata": {},
     "source": [
      "We first import a few modules and sign in to Plotly using our credentials file"
     ]
    },
    {
     "cell_type": "code",
     "execution_count": null,
     "metadata": {},
     "outputs": [],
     "input": [
      "# (*) To communicate with Plotly's server, sign in with credentials file\n",
      "import plotly.plotly as py  \n",
      "\n",
      "# (*) Useful Python/Plotly tools\n",
      "import plotly.tools as tls   \n",
      "\n",
      "# (*) Graph objects to piece together plots\n",
      "from plotly.graph_objs import *\n",
      "\n",
      "import numpy as np  # (*) numpy for math functions and arrays"
     ],
     "language": "python",
     "prompt_number": 2
    },
    {
     "cell_type": "markdown",
     "metadata": {},
     "source": [
      "If you are not familiar with credentials files, refer to the User Guide's  <a href=\"https://plot.ly/python/user-guide#Step-6\" target=\"_blank\">homepage</a>."
     ]
    },
    {
     "cell_type": "markdown",
     "metadata": {},
     "source": [
      "We also need to import matplotlib and let's turn on the IPython inline magic to display matplotlib plots directly inside this notebook."
     ]
    },
    {
     "cell_type": "code",
     "execution_count": null,
     "metadata": {},
     "outputs": [],
     "input": [
      "import matplotlib.pyplot as plt # (*) import matplotlib\n",
      "\n",
      "%matplotlib inline"
     ],
     "language": "python",
     "prompt_number": 3
    },
    {
     "cell_type": "heading",
     "metadata": {},
     "level": 3,
     "source": [
      "6.1 Matplotlib to Plotly conversion basics"
     ]
    },
    {
     "cell_type": "markdown",
     "metadata": {},
     "source": [
      "To convert a matplotlib figure to a Plotly figure, Python API users now have, in version 1.0, the following three functions made available to them:\n",
      "\n",
      "* `tls.mpl_to_plotly`: takes in a matplotlib figure object (i.e. `mpl_fig = plt.figure()`) and returns a Plotly figure object \n",
      "\n",
      "* `py.plot_mpl`: takes in  a matplotlib figure object and creates a Plotly plot at a unique URL, and optionally opens a new browser tab at this URL.\n",
      "\n",
      "* `py.iplot_mpl`: similar to `py.plot_mpl` but for IPython notebook use. It displays the returned Plotly figure directly in the IPython notebook in session."
     ]
    },
    {
     "cell_type": "markdown",
     "metadata": {},
     "source": [
      "So, let's get started by generating this <a href=\"http://matplotlib.org/examples/pylab_examples/legend_demo2.html\" target=\"_blank\">damped oscillation graph</a> using matplotlib. The following code cell has been adapted from the matplotlib example bank. Thanks!"
     ]
    },
    {
     "cell_type": "code",
     "execution_count": null,
     "metadata": {},
     "outputs": [
      {
       "output_type": "display_data",
       "png": "[encoded data removed]",
       "text": [
        "<matplotlib.figure.Figure at 0x7f18d2ca8e10>"
       ],
       "metadata": {}
      }
     ],
     "input": [
      "# Package all mpl plotting commands inside one function\n",
      "def plot_mpl_fig():\n",
      "    \n",
      "    # Make two time arrays\n",
      "    t1 = np.arange(0.0, 2.0, 0.1)\n",
      "    t2 = np.arange(0.0, 2.0, 0.01)\n",
      "\n",
      "    # N.B. .plot() returns a list of lines.  \n",
      "    # The \"l1, = plot\" usage extracts the first element of the list \n",
      "    # into l1 using tuple unpacking.  \n",
      "    # So, l1 is a Line2D instance, not a sequence of lines\n",
      "    l1, = plt.plot(t2, np.exp(-t2), label='decaying exp.')\n",
      "    l2, l3 = plt.plot(t2, np.sin(2 * np.pi * t2), '--go', \n",
      "                      t1, np.log(1 + t1), '.')\n",
      "    l4, = plt.plot(t2, np.exp(-t2) * np.sin(2 * np.pi * t2), 'rs-.')\n",
      "\n",
      "    # Add axis labels and title\n",
      "    plt.xlabel('time')\n",
      "    plt.ylabel('volts')\n",
      "    plt.title('Damped oscillation')\n",
      "    \n",
      "    return (l1, l2, l3, l4)  # return line objects (for legend, later)\n",
      "\n",
      "# Plot it!\n",
      "plot_mpl_fig()\n",
      "\n",
      "# N.B. get matplotlib figure object and assign a variable to it\n",
      "mpl_fig1 = plt.gcf()"
     ],
     "language": "python",
     "prompt_number": 4
    },
    {
     "cell_type": "markdown",
     "metadata": {},
     "source": [
      "Note that in the above we retrieved the matplotlib figure object after generating the plot, using \n",
      "\n",
      "    plt.gcf() \n",
      "    \n",
      "where `.gcf()` stands for get current figure. Equivalently, we can use\n",
      "\n",
      "    plt.figure()\n",
      "   \n",
      "to initialize the figure object before the plotting commands. The latter method is used in this section from this point on."
     ]
    },
    {
     "cell_type": "heading",
     "metadata": {},
     "level": 5,
     "source": [
      "Convert a matplotlib figure object to a Plotly figure object"
     ]
    },
    {
     "cell_type": "markdown",
     "metadata": {},
     "source": [
      "Let's first try out the `tls.mpl_to_plotly` function. \n",
      "\n",
      "As always, a good way to start is to run help on the object in question:"
     ]
    },
    {
     "cell_type": "code",
     "execution_count": null,
     "metadata": {},
     "outputs": [
      {
       "output_type": "stream",
       "stream": "stdout",
       "text": [
        "Help on function mpl_to_plotly in module plotly.tools:\n",
        "\n",
        "mpl_to_plotly(fig, resize=False, strip_style=False, verbose=False)\n",
        "    Convert a matplotlib figure to plotly dictionary and send.\n",
        "    \n",
        "    All available information about matplotlib visualizations are stored\n",
        "    within a matplotlib.figure.Figure object. You can create a plot in python\n",
        "    using matplotlib, store the figure object, and then pass this object to\n",
        "    the fig_to_plotly function. In the background, mplexporter is used to\n",
        "    crawl through the mpl figure object for appropriate information. This\n",
        "    information is then systematically sent to the PlotlyRenderer which\n",
        "    creates the JSON structure used to make plotly visualizations. Finally,\n",
        "    these dictionaries are sent to plotly and your browser should open up a\n",
        "    new tab for viewing! Optionally, if you're working in IPython, you can\n",
        "    set notebook=True and the PlotlyRenderer will call plotly.iplot instead\n",
        "    of plotly.plot to have the graph appear directly in the IPython notebook.\n",
        "    \n",
        "    Note, this function gives the user access to a simple, one-line way to\n",
        "    render an mpl figure in plotly. If you need to trouble shoot, you can do\n",
        "    this step manually by NOT running this fuction and entereing the following:\n",
        "    \n",
        "    ===========================================================================\n",
        "    from mplexporter import Exporter\n",
        "    from mplexporter.renderers import PlotlyRenderer\n",
        "    \n",
        "    # create an mpl figure and store it under a varialble 'fig'\n",
        "    \n",
        "    renderer = PlotlyRenderer()\n",
        "    exporter = Exporter(renderer)\n",
        "    exporter.run(fig)\n",
        "    ===========================================================================\n",
        "    \n",
        "    You can then inspect the JSON structures by accessing these:\n",
        "    \n",
        "    renderer.layout -- a plotly layout dictionary\n",
        "    renderer.data -- a list of plotly data dictionaries\n",
        "    \n",
        "    Positional arguments:\n",
        "    fig -- a matplotlib figure object\n",
        "    username -- a valid plotly username **\n",
        "    api_key -- a valid api_key for the above username **\n",
        "    notebook -- an option for use with an IPython notebook\n",
        "    \n",
        "    ** Don't have a username/api_key? Try looking here:\n",
        "    https://plot.ly/plot\n",
        "    \n",
        "    ** Forgot your api_key? Try signing in and looking here:\n",
        "    https://plot.ly/python/getting-started\n",
        "\n"
       ]
      }
     ],
     "input": [
      "help(tls.mpl_to_plotly)"
     ],
     "language": "python",
     "prompt_number": 5
    },
    {
     "cell_type": "markdown",
     "metadata": {},
     "source": [
      "So, we convert the matplotlib figure object of our previous figure to a Plotly figure object, with verbose turned on just for fun:"
     ]
    },
    {
     "cell_type": "code",
     "execution_count": null,
     "metadata": {},
     "outputs": [
      {
       "output_type": "stream",
       "stream": "stdout",
       "text": [
        "Initialized PlotlyRenderer\n",
        "Opening figure\n",
        "  Opening axes\n",
        "    Attempting to draw a line ... with just lines\n",
        "    Heck yeah, I drew that line\n",
        "    Attempting to draw a line ... with both lines+markers\n",
        "    Heck yeah, I drew that line\n",
        "    Attempting to draw a line ... with just markers\n",
        "    Heck yeah, I drew that line\n",
        "    Attempting to draw a line ... with both lines+markers\n",
        "    Heck yeah, I drew that line\n",
        "    Attempting to draw an mpl text object\n",
        "      Text object is an xlabel\n",
        "        Adding xlabel\n",
        "    Attempting to draw an mpl text object\n",
        "      Text object is a ylabel\n",
        "        Adding ylabel\n",
        "    Attempting to draw an mpl text object\n",
        "      Text object is a title\n",
        "        Attempting to draw a title\n",
        "          Only one subplot found, adding as a plotly title\n",
        "  Closing axes\n",
        "Closing figure\n",
        "\n"
       ]
      }
     ],
     "input": [
      "py_fig1 = tls.mpl_to_plotly(mpl_fig1, verbose=True)"
     ],
     "language": "python",
     "prompt_number": 6
    },
    {
     "cell_type": "markdown",
     "metadata": {},
     "source": [
      "Now, print the yielded Plotly figure object:"
     ]
    },
    {
     "cell_type": "code",
     "execution_count": null,
     "metadata": {},
     "outputs": [
      {
       "output_type": "stream",
       "stream": "stdout",
       "text": [
        "Figure(\n",
        "    data=Data([\n",
        "        Scatter(\n",
        "            x=[0.0, 0.01, 0.02, 0.029999999999999999, 0.040000000000000001,  ],\n",
        "            y=[1.0, 0.99004983374916811, 0.98019867330675525, 0.970445533.., ],\n",
        "            mode='lines',\n",
        "            name='decaying exp.',\n",
        "            line=Line(\n",
        "                color='#0000FF',\n",
        "                width=1.0,\n",
        "                dash='solid',\n",
        "                opacity=1\n",
        "            ),\n",
        "            xaxis='x1',\n",
        "            yaxis='y1'\n",
        "        ),\n",
        "        Scatter(\n",
        "            x=[0.0, 0.01, 0.02, 0.029999999999999999, 0.040000000000000001,  ],\n",
        "            y=[0.0, 0.062790519529313374, 0.12533323356430426, 0.18738131.., ],\n",
        "            mode='lines+markers',\n",
        "            name='_line1',\n",
        "            marker=Marker(\n",
        "                color='#007F00',\n",
        "                size=6,\n",
        "                symbol='dot',\n",
        "                line=Line(\n",
        "                    color='#000000',\n",
        "                    width=0.5\n",
        "                ),\n",
        "                opacity=1\n",
        "            ),\n",
        "            line=Line(\n",
        "                color='#007F00',\n",
        "                width=1.0,\n",
        "                dash='dash',\n",
        "                opacity=1\n",
        "            ),\n",
        "            xaxis='x1',\n",
        "            yaxis='y1'\n",
        "        ),\n",
        "        Scatter(\n",
        "            x=[0.0, 0.10000000000000001, 0.20000000000000001, 0.300000000.., ],\n",
        "            y=[0.0, 0.095310179804324935, 0.18232155679395459, 0.26236426.., ],\n",
        "            mode='markers',\n",
        "            name='_line2',\n",
        "            marker=Marker(\n",
        "                color='#007F00',\n",
        "                size=6,\n",
        "                symbol='dot',\n",
        "                line=Line(\n",
        "                    color='#007F00',\n",
        "                    width=0.5\n",
        "                ),\n",
        "                opacity=1\n",
        "            ),\n",
        "            xaxis='x1',\n",
        "            yaxis='y1'\n",
        "        ),\n",
        "        Scatter(\n",
        "            x=[0.0, 0.01, 0.02, 0.029999999999999999, 0.040000000000000001,  ],\n",
        "            y=[0.0, 0.062165743421020596, 0.12285146926097672, 0.18184335.., ],\n",
        "            mode='lines+markers',\n",
        "            name='_line3',\n",
        "            marker=Marker(\n",
        "                color='#FF0000',\n",
        "                size=6,\n",
        "                symbol='square',\n",
        "                line=Line(\n",
        "                    color='#000000',\n",
        "                    width=0.5\n",
        "                ),\n",
        "                opacity=1\n",
        "            ),\n",
        "            line=Line(\n",
        "                color='#FF0000',\n",
        "                width=1.0,\n",
        "                dash='dashdot',\n",
        "                opacity=1\n",
        "            ),\n",
        "            xaxis='x1',\n",
        "            yaxis='y1'\n",
        "        )\n",
        "    ]),\n",
        "    layout=Layout(\n",
        "        title='Damped oscillation',\n",
        "        titlefont=Font(\n",
        "            size=12.0,\n",
        "            color='#000000'\n",
        "        ),\n",
        "        showlegend=False,\n",
        "        autosize=False,\n",
        "        width=480,\n",
        "        height=320,\n",
        "        margin=Margin(\n",
        "            l=60,\n",
        "            r=47,\n",
        "            b=40,\n",
        "            t=31,\n",
        "            pad=0\n",
        "        ),\n",
        "        hovermode='closest',\n",
        "        xaxis1=XAxis(\n",
        "            title='time',\n",
        "            titlefont=Font(\n",
        "                size=10.0,\n",
        "                color='#000000'\n",
        "            ),\n",
        "            range=[0.0, 2.0],\n",
        "            domain=[0.0, 1.0],\n",
        "            type='linear',\n",
        "            showgrid=False,\n",
        "            zeroline=False,\n",
        "            showline=True,\n",
        "            nticks=5,\n",
        "            ticks='inside',\n",
        "            tickfont=Font(\n",
        "                size=10.0\n",
        "            ),\n",
        "            mirror='ticks',\n",
        "            anchor='y1',\n",
        "            side='bottom'\n",
        "        ),\n",
        "        yaxis1=YAxis(\n",
        "            title='volts',\n",
        "            titlefont=Font(\n",
        "                size=10.0,\n",
        "                color='#000000'\n",
        "            ),\n",
        "            range=[-1.0, 1.5],\n",
        "            domain=[0.0, 1.0],\n",
        "            type='linear',\n",
        "            showgrid=False,\n",
        "            zeroline=False,\n",
        "            showline=True,\n",
        "            nticks=6,\n",
        "            ticks='inside',\n",
        "            tickfont=Font(\n",
        "                size=10.0\n",
        "            ),\n",
        "            mirror='ticks',\n",
        "            anchor='x1',\n",
        "            side='left'\n",
        "        )\n",
        "    )\n",
        ")\n"
       ]
      }
     ],
     "input": [
      "print(py_fig1.to_string())"
     ],
     "language": "python",
     "prompt_number": 7
    },
    {
     "cell_type": "markdown",
     "metadata": {},
     "source": [
      "And there it is. A full Plotly figure object corresponding to our matplotlib plot!\n",
      "\n",
      "Even though the matplotlib plot only has one x-axis and one y-axis, matplotlylib converted the matplotlib axes to `'xaxis1'` and `'yaxis1'` keys in the Plotly layout object, consistent with figure object containing subplots (more in [subsection 6.3](#6.3-Converting-subplots)).\n",
      "\n",
      "Moreover, note that `tls.mpl_to_plotly` comes with a few optional keyword arguments. Namely, `resize` and `strip_style` which give users some flexibiliy in the conversion. \n",
      "\n",
      "By default, the converted Plotly figure object keeps the original matplotlib figure's size in pixels. These specifications are linked to the `'layout'` key of the Plotly figure object. More specifically for our first figure:"
     ]
    },
    {
     "cell_type": "code",
     "execution_count": null,
     "metadata": {},
     "outputs": [
      {
       "output_type": "stream",
       "stream": "stdout",
       "text": [
        "autosize False\n",
        "width 480\n",
        "height 320\n"
       ]
      }
     ],
     "input": [
      "# Print key-value pairs corresponding to the figure's size\n",
      "for i in ['autosize', 'width', 'height']:\n",
      "    print i, py_fig1['layout'][i]"
     ],
     "language": "python",
     "prompt_number": 8
    },
    {
     "cell_type": "markdown",
     "metadata": {},
     "source": [
      "Then, setting `resize` to `True` in the `tls.mpl_to_plotly` call effectively deletes the three above keys (as the `.pop()` dictionary method would do). In this case, the converted Plotly figure object acquires Plotly's auto-size functionality when plotted.\n",
      "\n",
      "The `strip_style` argument allows users to convert a matplotlib figure to Plotly's beautiful default style settting without having to manipulation the Plotly figure object. The `strip_style` argument is in display next."
     ]
    },
    {
     "cell_type": "heading",
     "metadata": {},
     "level": 5,
     "source": [
      "Plot a matplotlib figure in Plotly"
     ]
    },
    {
     "cell_type": "markdown",
     "metadata": {},
     "source": [
      "Start by running help on `py.iplot_mpl` (or `py.plot_mpl`),"
     ]
    },
    {
     "cell_type": "code",
     "execution_count": null,
     "metadata": {},
     "outputs": [
      {
       "output_type": "stream",
       "stream": "stdout",
       "text": [
        "Help on function iplot_mpl in module plotly.plotly.plotly:\n",
        "\n",
        "iplot_mpl(fig, resize=True, strip_style=False, update=None, **plot_options)\n",
        "    Replot a matplotlib figure with plotly in IPython.\n",
        "    \n",
        "    This function:\n",
        "    1. converts the mpl figure into JSON (run help(plolty.tools.mpl_to_plotly))\n",
        "    2. makes a request to Plotly to save this figure in your account\n",
        "    3. displays the image in your IPython output cell\n",
        "    \n",
        "    Positional agruments:\n",
        "    fig -- a figure object from matplotlib\n",
        "    \n",
        "    Keyword arguments:\n",
        "    resize (default=True) -- allow plotly to choose the figure size\n",
        "    strip_style (default=False) -- allow plotly to choose style options\n",
        "    update (default=None) -- update the resulting figure with an 'update'\n",
        "        dictionary-like object resembling a plotly 'Figure' object\n",
        "    \n",
        "    Additional keyword arguments:\n",
        "    plot_options -- run help(plotly.plotly.iplot)\n",
        "\n"
       ]
      }
     ],
     "input": [
      "help(py.iplot_mpl)"
     ],
     "language": "python",
     "prompt_number": 9
    },
    {
     "cell_type": "markdown",
     "metadata": {},
     "source": [
      "Note that `resize` keyword argument is set to `True` by default in `py.iplot_mpl` (N.B. and for `py.plot_mpl`). unlike in `tls.mpl_to_plotly`. \n",
      "\n",
      "Next, we send our matplotlib figure object to `py.iplot_mpl`, give it a file name as keyword argument likewise to `py.iplot` and `py.plot`. This results in:"
     ]
    },
    {
     "cell_type": "code",
     "execution_count": null,
     "metadata": {},
     "outputs": [
      {
       "output_type": "pyout",
       "html": [
        "<iframe id=\"igraph\" scrolling=\"no\" style=\"border:none;\"seamless=\"seamless\" src=\"https://plot.ly/~etpinard/214.embed\" height=\"525\" width=\"100%\"></iframe>"
       ],
       "metadata": {}
      }
     ],
     "input": [
      "py.iplot_mpl(mpl_fig1, filename='s6_damped_oscillation')"
     ],
     "language": "python",
     "prompt_number": 10
    },
    {
     "cell_type": "markdown",
     "metadata": {},
     "source": [
      "Wow! The difference between a matplotlib plot and a Plotly plot is merely one line of code.\n",
      "\n",
      "Our plot has now a unique URL and can, along with the underlying data sets, be shared online. As with all Plotly plots, you can hover, zoom, and pan on the figure. Fantastic.\n",
      "\n",
      "Plotly's Python API makes it easy to *strip* a figure's style options which, in essence, resets all style keys to the beautiful-looking Plotly defaults. This can be done in several ways adapted to your personal workflow. First, by adding a keyword argument in the `py.iplot_mpl` or `py_plot_mpl` call:"
     ]
    },
    {
     "cell_type": "code",
     "execution_count": null,
     "metadata": {},
     "outputs": [
      {
       "output_type": "pyout",
       "html": [
        "<iframe id=\"igraph\" scrolling=\"no\" style=\"border:none;\"seamless=\"seamless\" src=\"https://plot.ly/~etpinard/217.embed\" height=\"525\" width=\"100%\"></iframe>"
       ],
       "metadata": {}
      }
     ],
     "input": [
      "# (1) Plot mpl figure object as a Plotly plot with default style options\n",
      "py.iplot_mpl(mpl_fig1, strip_style=True, \n",
      "             filename='s6_damped_oscillation-default-style')"
     ],
     "language": "python",
     "prompt_number": 11
    },
    {
     "cell_type": "markdown",
     "metadata": {},
     "source": [
      "Nice!\n",
      "\n",
      "Notice that Plotly caught the `label` keyword argument in the first `plt.line` call in our `plot_mpl_fig` funciton. This label is translated to the `'name'` key in the corresponding trace object; hence, it is displayed on hover and in the legend (as `showlegend` is set to `True` by default in Plotly). The other lines which were defined without a `label` keyword argument are named sequencially with a leading underscore in the same order as in the original matplotlib plot.\n",
      "\n",
      "If more convenient for you, the two following code cells yield the same Plotly plot as the above. You are invited to copy and paste the URLs in your browser to check the results."
     ]
    },
    {
     "cell_type": "code",
     "execution_count": null,
     "metadata": {},
     "outputs": [
      {
       "output_type": "pyout",
       "prompt_number": 12,
       "text": [
        "u'https://plot.ly/~etpinard/229'"
       ],
       "metadata": {}
      }
     ],
     "input": [
      "# (2) Strip style in convertion for mpl fig obj to plotly fig obj, plot\n",
      "py_fig1_ss = tls.mpl_to_plotly(mpl_fig1, strip_style=True)\n",
      "\n",
      "py.plot(py_fig1_ss, filename='s6_damped_oscillation-default-style2', \n",
      "        auto_open=False)"
     ],
     "language": "python",
     "prompt_number": 12
    },
    {
     "cell_type": "code",
     "execution_count": null,
     "metadata": {},
     "outputs": [
      {
       "output_type": "pyout",
       "prompt_number": 13,
       "text": [
        "u'https://plot.ly/~etpinard/230'"
       ],
       "metadata": {}
      }
     ],
     "input": [
      "# (3) Strip style in retruned plotly fig obj, plot\n",
      "py_fig1.strip_style()\n",
      "\n",
      "py.plot(py_fig1, filename='s6_damped_oscillation-default-style3', \n",
      "        auto_open=False)"
     ],
     "language": "python",
     "prompt_number": 13
    },
    {
     "cell_type": "heading",
     "metadata": {},
     "level": 5,
     "source": [
      "Careful, matplotlib is not perfect (yet)"
     ]
    },
    {
     "cell_type": "markdown",
     "metadata": {},
     "source": [
      "Please note that, in the current version of matplotlylib, matplotlib legends do not fully convert to Plotly legends.\n",
      "\n",
      "For example,"
     ]
    },
    {
     "cell_type": "code",
     "execution_count": null,
     "metadata": {},
     "outputs": [
      {
       "output_type": "pyout",
       "prompt_number": 14,
       "text": [
        "<matplotlib.legend.Legend at 0x7f18d267a8d0>"
       ],
       "metadata": {}
      },
      {
       "output_type": "display_data",
       "png": "[encoded data removed]",
       "text": [
        "<matplotlib.figure.Figure at 0x7f18d2ca5b10>"
       ],
       "metadata": {}
      }
     ],
     "input": [
      "# Set new mpl figure object\n",
      "mpl_fig2 = plt.figure()\n",
      "\n",
      "# Replot first mpl figure, add legend\n",
      "(l1, l2, l3, l4) = plot_mpl_fig()\n",
      "plt.legend((l2, l4), ('oscillatory', 'damped'), 'upper right')"
     ],
     "language": "python",
     "prompt_number": 14
    },
    {
     "cell_type": "code",
     "execution_count": null,
     "metadata": {},
     "outputs": [
      {
       "output_type": "stream",
       "stream": "stderr",
       "text": [
        "/usr/local/lib/python2.7/dist-packages/plotly/matplotlylib/renderer.py:382: UserWarning:\n",
        "\n",
        "Bummer! Plotly can currently only draw Line2D objects from matplotlib that are in 'data' coordinates!\n",
        "\n",
        "/usr/local/lib/python2.7/dist-packages/plotly/matplotlylib/renderer.py:479: UserWarning:\n",
        "\n",
        "I found a path object that I don't think is part of a bar chart. Ignoring.\n",
        "\n"
       ]
      },
      {
       "output_type": "pyout",
       "html": [
        "<iframe id=\"igraph\" scrolling=\"no\" style=\"border:none;\"seamless=\"seamless\" src=\"https://plot.ly/~etpinard/231.embed\" height=\"525\" width=\"100%\"></iframe>"
       ],
       "metadata": {}
      }
     ],
     "input": [
      "# Plot mpl figure object as a Plotly plot \n",
      "py.iplot_mpl(mpl_fig2, filename='s6_damped_oscillation-legend')"
     ],
     "language": "python",
     "prompt_number": 15
    },
    {
     "cell_type": "markdown",
     "metadata": {},
     "source": [
      "Legends are treated as simple text annotations.\n",
      "\n",
      "That said, once you have the Plotly figure in hand, it is pretty straight forward to add a Plotly legend to your Plotly plot:"
     ]
    },
    {
     "cell_type": "code",
     "execution_count": null,
     "metadata": {},
     "outputs": [
      {
       "output_type": "pyout",
       "html": [
        "<iframe id=\"igraph\" scrolling=\"no\" style=\"border:none;\"seamless=\"seamless\" src=\"https://plot.ly/~etpinard/232.embed\" height=\"525\" width=\"100%\"></iframe>"
       ],
       "metadata": {}
      }
     ],
     "input": [
      "# Convert mpl fig obj to plotly fig obj, resize to plotly's default\n",
      "py_fig2 = tls.mpl_to_plotly(mpl_fig2, resize=True)\n",
      "\n",
      "# Delete misplaced legend annotations \n",
      "py_fig2['layout'].pop('annotations', None)\n",
      "\n",
      "# Add legend, place it at the top right corner of the plot\n",
      "py_fig2['layout'].update(\n",
      "    showlegend=True,\n",
      "    legend=Legend(\n",
      "        x=1.05,\n",
      "        y=1\n",
      "    )\n",
      ")\n",
      "\n",
      "# Send updated figure object to Plotly, show result in notebook\n",
      "py.iplot(py_fig2, filename='s6_damped_oscillation-legend2')"
     ],
     "language": "python",
     "prompt_number": 16
    },
    {
     "cell_type": "markdown",
     "metadata": {},
     "source": [
      "Again, Plotly caught the `label` keyword from the `plt.line` call.\n",
      "\n",
      "To make it look like the original matplotlib plot, we need to add a few key-value pairs to the trace objects:"
     ]
    },
    {
     "cell_type": "code",
     "execution_count": null,
     "metadata": {},
     "outputs": [
      {
       "output_type": "pyout",
       "html": [
        "<iframe id=\"igraph\" scrolling=\"no\" style=\"border:none;\"seamless=\"seamless\" src=\"https://plot.ly/~etpinard/235.embed\" height=\"525\" width=\"100%\"></iframe>"
       ],
       "metadata": {}
      }
     ],
     "input": [
      "# Add name to be shown on hover and legend for two of the traces\n",
      "py_fig2['data'][1].update(name='oscillatory')\n",
      "py_fig2['data'][3].update(name='damped')\n",
      "\n",
      "# Do not include the remaining traces in legend\n",
      "py_fig2['data'][0].update(showlegend=False)\n",
      "py_fig2['data'][2].update(showlegend=False)\n",
      "\n",
      "# Send updated figure object to Plotly, show result in notebook    \n",
      "py.iplot(py_fig2, filename='s6_damped_oscillation-legend3')"
     ],
     "language": "python",
     "prompt_number": 17
    },
    {
     "cell_type": "markdown",
     "metadata": {},
     "source": [
      "This is much better than the orginal matplotlib figure, right?\n",
      "\n",
      "The previous updates can be made by passing a single keyword argument to `py.iplot_mpl`:"
     ]
    },
    {
     "cell_type": "code",
     "execution_count": null,
     "metadata": {},
     "outputs": [
      {
       "output_type": "pyout",
       "html": [
        "<iframe id=\"igraph\" scrolling=\"no\" style=\"border:none;\"seamless=\"seamless\" src=\"https://plot.ly/~etpinard/315.embed\" height=\"525\" width=\"100%\"></iframe>"
       ],
       "metadata": {}
      }
     ],
     "input": [
      "# Update dictionary \n",
      "update = dict(\n",
      "    layout=dict(\n",
      "        annotations=[dict(text=' ')],  # blank text in legend 'annotation'\n",
      "        showlegend=True,               # show legend \n",
      "        legend=Legend(\n",
      "            x=1.05,     # legend position\n",
      "            y=1\n",
      "        )\n",
      "    ),\n",
      "    data=[\n",
      "        dict(showlegend=False),   # do not show trace 1 in legend\n",
      "        dict(name='oscillatory'), # legend label for trace 2\n",
      "        dict(showlegend=False),   # do not show trace 3 in legend\n",
      "        dict(name='damped')       # legend label for trace 4\n",
      "    ]\n",
      ")\n",
      "\n",
      "# Plot mpl figure object as a Plotly plot, with update dictionary\n",
      "py.iplot_mpl(mpl_fig2, resize=True, update=update, \n",
      "             filename='s6_damped_oscillation-legend4')"
     ],
     "language": "python",
     "prompt_number": 18
    },
    {
     "cell_type": "markdown",
     "metadata": {},
     "source": [
      "Thank you <a href=\"https://twitter.com/hughesadam87\" target=\"_blank\">Adam Hughes</a> for the suggestion."
     ]
    },
    {
     "cell_type": "heading",
     "metadata": {},
     "level": 3,
     "source": [
      "6.2 Supported plot types"
     ]
    },
    {
     "cell_type": "markdown",
     "metadata": {},
     "source": [
      "So far, matplotlylib supports convertions of:\n",
      "\n",
      "* Scatter Plots (i.e. marker and line plots), as shown in [subsection 6.1](#6.1-Matplotlib-to-Plotly-conversion-basics)\n",
      "* [Bar Charts](#Bar-Charts)\n",
      "* [Histograms](#Histograms)\n",
      "* [Log scales](#Log-scales)\n",
      "* [Bubble Charts](#Bubble-Charts)\n",
      "\n",
      "Here are a couple examples:"
     ]
    },
    {
     "cell_type": "heading",
     "metadata": {},
     "level": 5,
     "source": [
      "Bar Charts"
     ]
    },
    {
     "cell_type": "code",
     "execution_count": null,
     "metadata": {},
     "outputs": [
      {
       "output_type": "pyout",
       "prompt_number": 19,
       "text": [
        "<Container object of 7 artists>"
       ],
       "metadata": {}
      },
      {
       "output_type": "display_data",
       "png": "[encoded data removed]",
       "text": [
        "<matplotlib.figure.Figure at 0x7f18d1de8650>"
       ],
       "metadata": {}
      }
     ],
     "input": [
      "mpl_fig_bar = plt.figure()  # set new mpl figure object\n",
      "\n",
      "ax = mpl_fig_bar.add_subplot(111)  # add axis\n",
      "\n",
      "# Locations and height of the bars\n",
      "locs = [1, 2, 3, 4, 5, 6, 7] \n",
      "height = [5, 6, 1, 4, 3, 10, 15]\n",
      "\n",
      "# Plot mpl bar chart, bars have a width of 1 unit\n",
      "ax.bar(locs, height, width=1)"
     ],
     "language": "python",
     "prompt_number": 19
    },
    {
     "cell_type": "code",
     "execution_count": null,
     "metadata": {},
     "outputs": [
      {
       "output_type": "pyout",
       "html": [
        "<iframe id=\"igraph\" scrolling=\"no\" style=\"border:none;\"seamless=\"seamless\" src=\"https://plot.ly/~etpinard/218.embed\" height=\"525\" width=\"100%\"></iframe>"
       ],
       "metadata": {}
      }
     ],
     "input": [
      "# Convert mpl figure object to Plotly plot \n",
      "py.iplot_mpl(mpl_fig_bar, filename='s6_bars')"
     ],
     "language": "python",
     "prompt_number": 20
    },
    {
     "cell_type": "markdown",
     "metadata": {},
     "source": [
      "Recall that, by default, `py.plot_mpl` and `py.iplot_mpl` resize the inputted matplotlib figure object."
     ]
    },
    {
     "cell_type": "heading",
     "metadata": {},
     "level": 5,
     "source": [
      "Histograms"
     ]
    },
    {
     "cell_type": "code",
     "execution_count": null,
     "metadata": {},
     "outputs": [
      {
       "output_type": "display_data",
       "png": "[encoded data removed]",
       "text": [
        "<matplotlib.figure.Figure at 0x7f18d1cb9550>"
       ],
       "metadata": {}
      }
     ],
     "input": [
      "mpl_fig_hist = plt.figure()  # set new mpl figure objects\n",
      "\n",
      "ax = mpl_fig_hist.add_subplot(111)  # add axis\n",
      "\n",
      "N = 10000  # sample size\n",
      "\n",
      "y = np.random.randn(N)  # normally distribution random numbers\n",
      "\n",
      "ax.set_xlabel(r\"random variable $X$\")  # set axis labels \n",
      "ax.set_ylabel(r\"$\\mathcal{P}(X)$\")     #  using LaTeX symbols\n",
      "\n",
      "# Add an on-plot annotation\n",
      "ax.annotate('Sample size: ' + str(N), \n",
      "            textcoords='axes fraction', \n",
      "            xy=(0.7,0.9), xytext=(0.7,0.9))\n",
      "\n",
      "# Plot mpl histogram with 100 bins\n",
      "out = ax.hist(y, bins=100)"
     ],
     "language": "python",
     "prompt_number": 21
    },
    {
     "cell_type": "code",
     "execution_count": null,
     "metadata": {},
     "outputs": [
      {
       "output_type": "pyout",
       "html": [
        "<iframe id=\"igraph\" scrolling=\"no\" style=\"border:none;\"seamless=\"seamless\" src=\"https://plot.ly/~etpinard/236.embed\" height=\"525\" width=\"100%\"></iframe>"
       ],
       "metadata": {}
      }
     ],
     "input": [
      "# Convert mpl figure object to Plotly plot \n",
      "py.iplot_mpl(mpl_fig_hist, filename='s6_histograms')"
     ],
     "language": "python",
     "prompt_number": 22
    },
    {
     "cell_type": "markdown",
     "metadata": {},
     "source": [
      "Nice!\n",
      "\n",
      "Matplotlylib is able to convert $\\LaTeX$ symbols from matplotlib figure objects as well as text annotations with ease."
     ]
    },
    {
     "cell_type": "markdown",
     "metadata": {},
     "source": [
      "Please note that matplotlylib converts matplotlib histograms into Plotly `Bar` objects (not into Plotly `Histogram` objects). More clearly,"
     ]
    },
    {
     "cell_type": "code",
     "execution_count": null,
     "metadata": {},
     "outputs": [
      {
       "output_type": "stream",
       "stream": "stdout",
       "text": [
        "Figure(\n",
        "    data=Data([\n",
        "        Bar(\n",
        "            x=[-4.0300728711721483, -3.9484305111402387, -3.8667881511083.., ],\n",
        "            y=[1.0, 0.0, 0.0, 1.0, 0.0, 0.0, 2.0, 0.0, 2.0, 1.0, 1.0, 2.0,   ],\n",
        "            orientation='v',\n",
        "            marker=Marker(\n",
        "                color='#0000FF',\n",
        "                line=Line(\n",
        "                    width=1.0\n",
        "                )\n",
        "            ),\n",
        "            opacity=1,\n",
        "            xaxis='x1',\n",
        "            yaxis='y1'\n",
        "        )\n",
        "    ]),\n",
        "    layout=Layout(\n",
        "        showlegend=False,\n",
        "        autosize=False,\n",
        "        width=480,\n",
        "        height=320,\n",
        "        annotations=Annotations([\n",
        "            Annotation(\n",
        "                x=0.6981233243967828,\n",
        "                y=0.8963855421686748,\n",
        "                xref='paper',\n",
        "                yref='paper',\n",
        "                text='Sample size: 10000',\n",
        "                showarrow=False,\n",
        "                font=Font(\n",
        "                    size=10.0,\n",
        "                    color='#000000'\n",
        "                ),\n",
        "                xanchor='left',\n",
        "                yanchor='bottom',\n",
        "                align='left',\n",
        "                opacity=1\n",
        "            )\n",
        "        ]),\n",
        "        margin=Margin(\n",
        "            l=60,\n",
        "            r=47,\n",
        "            b=40,\n",
        "            t=31,\n",
        "            pad=0\n",
        "        ),\n",
        "        hovermode='closest',\n",
        "        bargap=0.0,\n",
        "        xaxis1=XAxis(\n",
        "            title='random variable $X$',\n",
        "            titlefont=Font(\n",
        "                size=10.0,\n",
        "                color='#000000'\n",
        "            ),\n",
        "            range=[-5.0, 5.0],\n",
        "            domain=[0.0, 1.0],\n",
        "            type='linear',\n",
        "            showgrid=False,\n",
        "            zeroline=False,\n",
        "            showline=True,\n",
        "            nticks=7,\n",
        "            ticks='inside',\n",
        "            tickfont=Font(\n",
        "                size=10.0\n",
        "            ),\n",
        "            mirror='ticks',\n",
        "            anchor='y1',\n",
        "            side='bottom'\n",
        "        ),\n",
        "        yaxis1=YAxis(\n",
        "            title='$\\\\mathcal{P}(X)$',\n",
        "            titlefont=Font(\n",
        "                size=10.0,\n",
        "                color='#000000'\n",
        "            ),\n",
        "            range=[0.0, 350.0],\n",
        "            domain=[0.0, 1.0],\n",
        "            type='linear',\n",
        "            showgrid=False,\n",
        "            zeroline=False,\n",
        "            showline=True,\n",
        "            nticks=8,\n",
        "            ticks='inside',\n",
        "            tickfont=Font(\n",
        "                size=10.0\n",
        "            ),\n",
        "            mirror='ticks',\n",
        "            anchor='x1',\n",
        "            side='left'\n",
        "        )\n",
        "    )\n",
        ")\n"
       ]
      }
     ],
     "input": [
      "# Convert mpl figure object to plotly \n",
      "py_fig_hist = tls.mpl_to_plotly(mpl_fig_hist)\n",
      "\n",
      "# Print the yielded plotly figure object\n",
      "print(py_fig_hist.to_string())"
     ],
     "language": "python",
     "prompt_number": 23
    },
    {
     "cell_type": "markdown",
     "metadata": {},
     "source": [
      "That is, the computation required to plot a histogram from a set of values is not made twice."
     ]
    },
    {
     "cell_type": "heading",
     "metadata": {},
     "level": 5,
     "source": [
      "Log scales"
     ]
    },
    {
     "cell_type": "markdown",
     "metadata": {},
     "source": [
      "The following plot was inspired by the <a href=\"http://matplotlib.org/examples/pylab_examples/log_demo.html\" target=\"_blank\">log demo</a> of the matplotlib example bank."
     ]
    },
    {
     "cell_type": "code",
     "execution_count": null,
     "metadata": {},
     "outputs": [
      {
       "output_type": "display_data",
       "png": "[encoded data removed]",
       "text": [
        "<matplotlib.figure.Figure at 0x7f18d1a763d0>"
       ],
       "metadata": {}
      }
     ],
     "input": [
      "mpl_fig_log = plt.figure()  # set new mpl figure object\n",
      "\n",
      "ax = mpl_fig_log.add_subplot(111)  # add axis\n",
      "\n",
      "# A simple exponential y=x^2\n",
      "x = 10.0**np.linspace(0.0, 6.0, 20)\n",
      "y = x**2.0\n",
      "\n",
      "plt.loglog(x,y) # plot as log-log\n",
      "\n",
      "# Add title, axis labels and grid\n",
      "plt.title('A log-log plot')\n",
      "ax.set_xlabel('log x-axis')\n",
      "ax.set_ylabel('log y-axis')\n",
      "plt.grid(True)"
     ],
     "language": "python",
     "prompt_number": 24
    },
    {
     "cell_type": "code",
     "execution_count": null,
     "metadata": {},
     "outputs": [
      {
       "output_type": "pyout",
       "html": [
        "<iframe id=\"igraph\" scrolling=\"no\" style=\"border:none;\"seamless=\"seamless\" src=\"https://plot.ly/~etpinard/259.embed\" height=\"525\" width=\"100%\"></iframe>"
       ],
       "metadata": {}
      }
     ],
     "input": [
      "# Convert mpl figure object to Plotly plot \n",
      "py.iplot_mpl(mpl_fig_log, filename='s6_log-scales')"
     ],
     "language": "python",
     "prompt_number": 25
    },
    {
     "cell_type": "markdown",
     "metadata": {},
     "source": [
      "The tick labels on the Plotly figure are not exactly the same as on the matplotlib figure. Hopefully, you agree that the converted tick labels look better than the original."
     ]
    },
    {
     "cell_type": "heading",
     "metadata": {},
     "level": 5,
     "source": [
      "Bubble Charts"
     ]
    },
    {
     "cell_type": "markdown",
     "metadata": {},
     "source": [
      "The following example was inspired by this <a href=\"http://glowingpython.blogspot.ca/2011/11/how-to-make-bubble-charts-with.html\" target=\"_blank\">post</a> on the Glowing Python blog. Thanks!"
     ]
    },
    {
     "cell_type": "code",
     "execution_count": null,
     "metadata": {},
     "outputs": [
      {
       "output_type": "display_data",
       "png": "[encoded data removed]",
       "text": [
        "<matplotlib.figure.Figure at 0x7f18d17b9050>"
       ],
       "metadata": {}
      }
     ],
     "input": [
      "import urllib2       # (*) urllib2 for in-session downloads\n",
      "import pandas as pd  # (*) pandas for dataframe manipulation\n",
      "\n",
      "# Import data file from URL into pd datafram in session\n",
      "data_url = 'http://datasets.flowingdata.com/crimeRatesByState2005.csv'\n",
      "data_file = urllib2.urlopen(data_url)  \n",
      "df = pd.read_csv(data_file, sep=',')\n",
      "\n",
      "df = df.drop(df.index[0])  # drop first row (US totals) \n",
      "df = df[df['murder'] < 11] # drop out-of-range rows\n",
      "\n",
      "mpl_fig_bubble = plt.figure()         # (!) set new mpl figure object\n",
      "ax = mpl_fig_bubble.add_subplot(111)  # add axis\n",
      "\n",
      "plt.axis([0,11,200,1280])\n",
      "plt.xlabel('Murders per 100,000 population')\n",
      "plt.ylabel('Burglaries per 100,000 population')\n",
      "\n",
      "scatter = ax.scatter(\n",
      "    df['murder'], \n",
      "    df['burglary'], \n",
      "    c=df['larceny_theft'],        # using some color scale\n",
      "    s=np.sqrt(df['population']),\n",
      "    linewidths=2, \n",
      "    edgecolor='w',\n",
      "    alpha=0.6\n",
      ")\n",
      "\n",
      "for i_X, X in df.iterrows():\n",
      "    plt.text(\n",
      "        X['murder'],\n",
      "        X['burglary'],\n",
      "        X['state'][0:8], # only the first 8 letters\n",
      "        size=8,\n",
      "        horizontalalignment='center'\n",
      "    )"
     ],
     "language": "python",
     "prompt_number": 26
    },
    {
     "cell_type": "code",
     "execution_count": null,
     "metadata": {},
     "outputs": [
      {
       "output_type": "pyout",
       "html": [
        "<iframe id=\"igraph\" scrolling=\"no\" style=\"border:none;\"seamless=\"seamless\" src=\"https://plot.ly/~etpinard/440.embed\" height=\"525\" width=\"100%\"></iframe>"
       ],
       "metadata": {}
      }
     ],
     "input": [
      "# Convert mpl figure object to Plotly plot \n",
      "py.iplot_mpl(mpl_fig_bubble, filename='s6_bubble-chart')"
     ],
     "language": "python",
     "prompt_number": 27
    },
    {
     "cell_type": "markdown",
     "metadata": {},
     "source": [
      "For another matplotlylib examples, refer to our online <a href=\"https://plot.ly/matplotlib/\" target=\"_blank\">documentation</a>."
     ]
    },
    {
     "cell_type": "heading",
     "metadata": {},
     "level": 3,
     "source": [
      "6.3 Converting subplots"
     ]
    },
    {
     "cell_type": "markdown",
     "metadata": {},
     "source": [
      "Matplotlylib also supports subplot conversions.\n",
      "\n",
      "Again, here are a couple examples:"
     ]
    },
    {
     "cell_type": "code",
     "execution_count": null,
     "metadata": {},
     "outputs": [
      {
       "output_type": "display_data",
       "png": "[encoded data removed]",
       "text": [
        "<matplotlib.figure.Figure at 0x7f18d16c1190>"
       ],
       "metadata": {}
      }
     ],
     "input": [
      "mpl_fig_splt1 = plt.figure()  # set a new mpl figure object\n",
      "\n",
      "t = np.arange(0.0, 1.0, 0.01)  # some time array\n",
      "\n",
      "# Make top subplot\n",
      "ax1 = mpl_fig_splt1.add_subplot(211)\n",
      "ax1.plot(t, np.sin(2*np.pi*t), label='1 Hz')    # add data, with label\n",
      "ax1.grid(True)                                  # put grid\n",
      "ax1.set_ylim((-2,2))                            # y-axis limit\n",
      "\n",
      "# Similarly for bottom subplot\n",
      "ax2 = mpl_fig_splt1.add_subplot(212)\n",
      "ax2.plot(t, np.sin(2*2*np.pi*t), label='2 Hz')\n",
      "ax2.grid(True)\n",
      "ax2.set_ylim((-2,2))\n",
      "\n",
      "# Set plot title and x-axis title\n",
      "ax1.set_title('Two sine waves')  \n",
      "l = ax2.set_xlabel('time [s]')"
     ],
     "language": "python",
     "prompt_number": 28
    },
    {
     "cell_type": "code",
     "execution_count": null,
     "metadata": {},
     "outputs": [
      {
       "output_type": "pyout",
       "html": [
        "<iframe id=\"igraph\" scrolling=\"no\" style=\"border:none;\"seamless=\"seamless\" src=\"https://plot.ly/~etpinard/248.embed\" height=\"525\" width=\"100%\"></iframe>"
       ],
       "metadata": {}
      }
     ],
     "input": [
      "py.iplot_mpl(mpl_fig_splt1, filename='s6_subplots1')"
     ],
     "language": "python",
     "prompt_number": 29
    },
    {
     "cell_type": "markdown",
     "metadata": {},
     "source": [
      "By default, matplotlib subplots don't have common axis elements and so the rendered Plotly plot will reflect this (try panning one of the axes!). \n",
      "\n",
      "However, by first converting the matplotlib figure object to a Plotly figure object, we can  easily make a shared-axis version of the above plot."
     ]
    },
    {
     "cell_type": "code",
     "execution_count": null,
     "metadata": {},
     "outputs": [
      {
       "output_type": "stream",
       "stream": "stdout",
       "text": [
        "xaxis1 [0.0, 1.0]\n",
        "yaxis1 [0.54545454545454553, 1.0]\n",
        "xaxis2 [0.0, 1.0]\n",
        "yaxis2 [0.0, 0.45454545454545453]\n"
       ]
      }
     ],
     "input": [
      "# Convert mpl figure object to Plotly figure object with default style and size\n",
      "py_fig_splt1 = tls.mpl_to_plotly(mpl_fig_splt1, strip_style=True, resize=True)\n",
      "\n",
      "# Print the axes' domains\n",
      "for i in ['xaxis1', 'yaxis1', 'xaxis2', 'yaxis2']:\n",
      "    print(i, py_fig_splt1['layout'][i]['domain'])"
     ],
     "language": "python",
     "prompt_number": 30
    },
    {
     "cell_type": "markdown",
     "metadata": {},
     "source": [
      "Notice the `'yaxis1'` (N.B. not `'yaxis'`) is above `'yaxis2'` which is consistent with our previous matplotlib commands. That said, it is not consistent with `tls.get_subplots`.\n",
      "\n",
      "Next, we delete `'xaxis2'` and reassign the each trace to the correct axes."
     ]
    },
    {
     "cell_type": "code",
     "execution_count": null,
     "metadata": {},
     "outputs": [
      {
       "output_type": "pyout",
       "html": [
        "<iframe id=\"igraph\" scrolling=\"no\" style=\"border:none;\"seamless=\"seamless\" src=\"https://plot.ly/~etpinard/247.embed\" height=\"525\" width=\"100%\"></iframe>"
       ],
       "metadata": {}
      }
     ],
     "input": [
      "# Delete 'xaxis2' key\n",
      "py_fig_splt1['layout'].pop('xaxis2', None)\n",
      "\n",
      "# Delete 'anchor' keys, they have no effet with 'xaxis2'\n",
      "for i in ['yaxis1', 'yaxis2']:\n",
      "    py_fig_splt1['layout'][i].pop('anchor', None)\n",
      "\n",
      "# Link both traces to 'xaxis1'\n",
      "py_fig_splt1['data'][0].update(xaxis='x1')\n",
      "py_fig_splt1['data'][1].update(xaxis='x1')\n",
      "\n",
      "# Link top trace to 'yaxis1' (as in original mpl figure) \n",
      "#  and bottom trace to 'yaxis2'\n",
      "py_fig_splt1['data'][0].update(yaxis='y1')\n",
      "py_fig_splt1['data'][1].update(yaxis='y2')\n",
      "\n",
      "# Send updated figure object to Plotly, show result in notebook\n",
      "py.iplot(py_fig_splt1, filename='s6_subplots1-shared-xaxis')"
     ],
     "language": "python",
     "prompt_number": 31
    },
    {
     "cell_type": "markdown",
     "metadata": {},
     "source": [
      "Matplotlylib can convert more evolved subplot grids as well:"
     ]
    },
    {
     "cell_type": "code",
     "execution_count": null,
     "metadata": {},
     "outputs": [
      {
       "output_type": "pyout",
       "prompt_number": 32,
       "text": [
        "[<matplotlib.lines.Line2D at 0x7f18d0153a10>]"
       ],
       "metadata": {}
      },
      {
       "output_type": "display_data",
       "png": "[encoded data removed]",
       "text": [
        "<matplotlib.figure.Figure at 0x7f18d03a1150>"
       ],
       "metadata": {}
      }
     ],
     "input": [
      "# For a more precise subplot layout\n",
      "import matplotlib.gridspec as gridspec \n",
      "\n",
      "mpl_fig_splt2 = plt.figure()  # set new mpl figure object\n",
      "\n",
      "# On a 3x3 subplot grid\n",
      "gs = gridspec.GridSpec(3, 3)\n",
      "gs.update(wspace=0.5, hspace=0.5)  # vertical and horizontal spacing\n",
      "\n",
      "# Subplot 1, top over all columns\n",
      "ax1 = mpl_fig_splt2.add_subplot(gs[0,:])\n",
      "ax1.plot([1, 2, 3, 4, 5], [10, 5, 10, 5, 10], 'r-', label='sbplt 1')\n",
      "\n",
      "# Subplot 2, middle height over 2 left-most columns\n",
      "ax2 = mpl_fig_splt2.add_subplot(gs[1,:-1])\n",
      "ax2.plot([1, 2, 3, 4], [1, 4, 9, 16], 'k-', label='sbplt 2')\n",
      "\n",
      "# Subplot 3, left over 2 bottom-most rows\n",
      "ax3 = mpl_fig_splt2.add_subplot(gs[1:,2])\n",
      "ax3.plot([1, 2, 3, 4], [1, 10, 100, 1000], 'b-', label='sbplt 3')\n",
      "\n",
      "# Subplot 4, bottom-left\n",
      "ax4 = mpl_fig_splt2.add_subplot(gs[2,0])\n",
      "ax4.plot([1, 2, 3, 4], [0, 0, 1, 1], 'g-', label='sbplt 4')\n",
      "\n",
      "# Subplot 5, bottom-center\n",
      "ax5 = mpl_fig_splt2.add_subplot(gs[2,1])\n",
      "ax5.plot([1, 2, 3, 4], [1, 0, 0, 1], 'c-', label='sbplt 5')"
     ],
     "language": "python",
     "prompt_number": 32
    },
    {
     "cell_type": "code",
     "execution_count": null,
     "metadata": {},
     "outputs": [
      {
       "output_type": "pyout",
       "html": [
        "<iframe id=\"igraph\" scrolling=\"no\" style=\"border:none;\"seamless=\"seamless\" src=\"https://plot.ly/~etpinard/243.embed\" height=\"525\" width=\"100%\"></iframe>"
       ],
       "metadata": {}
      }
     ],
     "input": [
      "# Plot as Plotly plot \n",
      "py.iplot_mpl(mpl_fig_splt2, filename='s6_subplots2')"
     ],
     "language": "python",
     "prompt_number": 33
    },
    {
     "cell_type": "code",
     "execution_count": null,
     "metadata": {},
     "outputs": [
      {
       "output_type": "pyout",
       "html": [
        "<iframe id=\"igraph\" scrolling=\"no\" style=\"border:none;\"seamless=\"seamless\" src=\"https://plot.ly/~etpinard/245.embed\" height=\"525\" width=\"100%\"></iframe>"
       ],
       "metadata": {}
      }
     ],
     "input": [
      "# Plot as Plotly plot with default style\n",
      "py.iplot_mpl(mpl_fig_splt2, strip_style=True, filename='s6_subplots2-default')"
     ],
     "language": "python",
     "prompt_number": 34
    },
    {
     "cell_type": "markdown",
     "metadata": {},
     "source": [
      "Nice!\n",
      "\n",
      "Again, if you're fond of matplotlib's syntax, or, you are just feeling like dipping your toes in the Plotly pool for now, a simple call to `py.plot_mpl` or `py.iplot_mpl` is all you need."
     ]
    },
    {
     "cell_type": "heading",
     "metadata": {},
     "level": 3,
     "source": [
      "6.4 The nitty gritty of matplotlylib"
     ]
    },
    {
     "cell_type": "markdown",
     "metadata": {},
     "source": [
      "Out of curiosity or for the sake of troubleshooting, you might find yourself needing to inspect the dictionaries and possibly even the mplexporter. The following shows how you go about running the PlotlyRenderer and making a manual call to Plotly.\n",
      "\n",
      "We start with the simplest of matplotlib plots:"
     ]
    },
    {
     "cell_type": "code",
     "execution_count": null,
     "metadata": {},
     "outputs": [
      {
       "output_type": "pyout",
       "prompt_number": 35,
       "text": [
        "(90, 310)"
       ],
       "metadata": {}
      },
      {
       "output_type": "display_data",
       "png": "[encoded data removed]",
       "text": [
        "<matplotlib.figure.Figure at 0x7f18d16c1490>"
       ],
       "metadata": {}
      }
     ],
     "input": [
      "mpl_fig_ng = plt.figure()         # set new mpl figure obj.\n",
      "ax = mpl_fig_ng.add_subplot(111)  # add axis\n",
      "\n",
      "ax.plot([10, 20, 30], [100, 200, 300], 'bo')  # add a few pts too plot\n",
      "\n",
      "ax.set_xlim(5, 35)    # set axes limits\n",
      "ax.set_ylim(90, 310)"
     ],
     "language": "python",
     "prompt_number": 35
    },
    {
     "cell_type": "markdown",
     "metadata": {},
     "source": [
      "First, we will need access to the Exporter and PlotlyRenderer classes:"
     ]
    },
    {
     "cell_type": "code",
     "execution_count": null,
     "metadata": {},
     "outputs": [],
     "input": [
      "from plotly.matplotlylib import Exporter, PlotlyRenderer\n",
      "\n",
      "renderer = PlotlyRenderer()    # make shorcuts \n",
      "exporter = Exporter(renderer)"
     ],
     "language": "python",
     "prompt_number": 36
    },
    {
     "cell_type": "markdown",
     "metadata": {},
     "source": [
      "The Exporter crawls through the matplotlib figure, judiciously grabs pertinent information, and invokes the renderer with which it was instantiated. The PlotlyRenderer accepts calls from the Exporter and creates an appropriate JSON dictionary for use with Plotly. So,"
     ]
    },
    {
     "cell_type": "code",
     "execution_count": null,
     "metadata": {},
     "outputs": [],
     "input": [
      "# Grab info from matplotlib figure\n",
      "exporter.run(mpl_fig_ng)"
     ],
     "language": "python",
     "prompt_number": 37
    },
    {
     "cell_type": "code",
     "execution_count": null,
     "metadata": {},
     "outputs": [
      {
       "output_type": "pyout",
       "prompt_number": 38,
       "text": [
        "{'data': [{'marker': {'color': '#0000FF',\n",
        "    'line': {'color': '#000000', 'width': 0.5},\n",
        "    'opacity': 1,\n",
        "    'size': 6,\n",
        "    'symbol': 'dot'},\n",
        "   'mode': 'markers',\n",
        "   'name': '_line0',\n",
        "   'type': u'scatter',\n",
        "   'x': [10.0, 20.0, 30.0],\n",
        "   'xaxis': 'x1',\n",
        "   'y': [100.0, 200.0, 300.0],\n",
        "   'yaxis': 'y1'}],\n",
        " 'layout': {'autosize': False,\n",
        "  'height': 320,\n",
        "  'hovermode': 'closest',\n",
        "  'margin': {'b': 40, 'l': 60, 'pad': 0, 'r': 47, 't': 31},\n",
        "  'showlegend': False,\n",
        "  'width': 480,\n",
        "  'xaxis1': {'anchor': 'y1',\n",
        "   'domain': [0.0, 1.0],\n",
        "   'mirror': 'ticks',\n",
        "   'nticks': 7,\n",
        "   'range': [5.0, 35.0],\n",
        "   'showgrid': False,\n",
        "   'showline': True,\n",
        "   'side': 'bottom',\n",
        "   'tickfont': {'size': 10.0},\n",
        "   'ticks': 'inside',\n",
        "   'type': 'linear',\n",
        "   'zeroline': False},\n",
        "  'yaxis1': {'anchor': 'x1',\n",
        "   'domain': [0.0, 1.0],\n",
        "   'mirror': 'ticks',\n",
        "   'nticks': 7,\n",
        "   'range': [90.0, 310.0],\n",
        "   'showgrid': False,\n",
        "   'showline': True,\n",
        "   'side': 'left',\n",
        "   'tickfont': {'size': 10.0},\n",
        "   'ticks': 'inside',\n",
        "   'type': 'linear',\n",
        "   'zeroline': False}}}"
       ],
       "metadata": {}
      }
     ],
     "input": [
      "# Create JSON dictionary for use with Plotly\n",
      "renderer.plotly_fig"
     ],
     "language": "python",
     "prompt_number": 38
    },
    {
     "cell_type": "markdown",
     "metadata": {},
     "source": [
      "OK.\n",
      "\n",
      "Finally, to create the figure in Plotly, call `py.iplot`:"
     ]
    },
    {
     "cell_type": "code",
     "execution_count": null,
     "metadata": {},
     "outputs": [
      {
       "output_type": "pyout",
       "html": [
        "<iframe id=\"igraph\" scrolling=\"no\" style=\"border:none;\"seamless=\"seamless\" src=\"https://plot.ly/~etpinard/226.embed\" height=\"525\" width=\"100%\"></iframe>"
       ],
       "metadata": {}
      }
     ],
     "input": [
      "py.iplot(renderer.plotly_fig, filename='s6_nitty-gritty')"
     ],
     "language": "python",
     "prompt_number": 39
    },
    {
     "cell_type": "markdown",
     "metadata": {},
     "source": [
      "Additionally, you can use this opportunity to add to or modify the data and layout dictionaries. Just as an example, we can change the plot and paper background colors:"
     ]
    },
    {
     "cell_type": "code",
     "execution_count": null,
     "metadata": {},
     "outputs": [
      {
       "output_type": "pyout",
       "html": [
        "<iframe id=\"igraph\" scrolling=\"no\" style=\"border:none;\"seamless=\"seamless\" src=\"https://plot.ly/~etpinard/227.embed\" height=\"525\" width=\"100%\"></iframe>"
       ],
       "metadata": {}
      }
     ],
     "input": [
      "# Use Plotly's default auto-size\n",
      "renderer.resize() \n",
      "\n",
      "# Add a few layout features to the figure object\n",
      "renderer.plotly_fig['layout']['plot_bgcolor'] = '#80adb0'\n",
      "renderer.plotly_fig['layout']['paper_bgcolor'] = '#fefafd'\n",
      "\n",
      "# Send updated figur object\n",
      "py.iplot(renderer.plotly_fig, filename='s6_nitty-gritty2')"
     ],
     "language": "python",
     "prompt_number": 40
    },
    {
     "cell_type": "markdown",
     "metadata": {},
     "source": [
      "<hr>\n",
      "    \n",
      "<h4 style=\"font-size:14pt;\">Go to\n",
      "\n",
      "[Section 7 --- Plotly's Streaming API](https://plot.ly/python/streaming-tutorial) </h4>\n",
      "\n",
      "<h4 style=\"font-size:14pt;\">Go to\n",
      "\n",
      "[Section 5 --- Heatmaps, Contours and 2D Histograms](https://plot.ly/python/heatmaps-contours-and-2dhistograms-tutorial) </h4>\n",
      "\n",
      "<h4 style=\"font-size:14pt;\">Go to\n",
      "\n",
      "[top of page](#Plotly's-Python-API-User-Guide) </h4>\n",
      "\n",
      "<h4 style=\"font-size:14pt;\">Go to User Guide's\n",
      "\n",
      "[homepage](https://plot.ly/python/user-guide) </h4>\n",
      "    \n",
      "<hr>"
     ]
    },
    {
     "cell_type": "markdown",
     "metadata": {},
     "source": [
      "<div style=\"float:right; \\\">\n",
      "    <img src=\"http://i.imgur.com/4vwuxdJ.png\" \n",
      " align=right style=\"float:right; margin-left: 5px; margin-top: -10px\" />\n",
      "</div>\n",
      "\n",
      "<h4>Got Questions or Feedback? </h4>\n",
      "\n",
      "About <a href=\"https://plot.ly\" target=\"_blank\">Plotly</a>\n",
      "\n",
      "* email: feedback@plot.ly \n",
      "* tweet: \n",
      "<a href=\"https://twitter.com/plotlygraphs\" target=\"_blank\">@plotlygraphs</a>\n",
      "\n",
      "About the <a href=\"https://github.com/plotly/python-user-guide\" target=\"_blank\">User Guide</a>\n",
      " \n",
      "* email: etienne@plot.ly\n",
      "* tweet: <a href=\"https://twitter.com/etpinard\" target=\"_blank\">@etpinard</a>\n",
      "\n",
      "<h4 style=\"margin-top:30px;\">Notebook styling ideas</h4>\n",
      "\n",
      "Big thanks to\n",
      "\n",
      "* <a href=\"http://nbviewer.ipython.org/github/CamDavidsonPilon/Probabilistic-Programming-and-Bayesian-Methods-for-Hackers/blob/master/Prologue/Prologue.ipynb\" target=\"_blank\">Cam Davidson-Pilon</a>\n",
      "* <a href=\"http://lorenabarba.com/blog/announcing-aeropython/#.U1ULXdX1LJ4.google_plusone_share\" target=\"_blank\">Lorena A. Barba</a>\n",
      "\n",
      "<br>"
     ]
    },
    {
     "cell_type": "code",
     "execution_count": null,
     "metadata": {},
     "outputs": [
      {
       "output_type": "pyout",
       "html": [
        "<style>\n",
        "    div.cell{\n",
        "        width: 850px;\n",
        "        margin-left: 10% !important;\n",
        "        margin-right: auto;\n",
        "    }\n",
        "    h1 {\n",
        "        font-family: \"Open sans\",verdana,arial,sans-serif;\n",
        "    }\n",
        "    .text_cell_render h1 {\n",
        "        font-weight: 200;\n",
        "        font-size: 40pt;\n",
        "        line-height: 100%;\n",
        "        color:#447adb;\n",
        "        margin-bottom: 0em;\n",
        "        margin-top: 0em;\n",
        "        display: block;\n",
        "        white-space: nowrap;\n",
        "    } \n",
        "    h2 {\n",
        "        font-family: \"Open sans\",verdana,arial,sans-serif;\n",
        "        text-indent:1em;\n",
        "    }\n",
        "    .text_cell_render h2 {\n",
        "        font-weight: 200;\n",
        "        font-size: 20pt;\n",
        "        font-style: italic;\n",
        "        line-height: 100%;\n",
        "        color:#447adb;\n",
        "        margin-bottom: 1.5em;\n",
        "        margin-top: 0.5em;\n",
        "        display: block;\n",
        "        white-space: nowrap;\n",
        "    } \n",
        "    h3 {\n",
        "        font-family: \"Open sans\",verdana,arial,sans-serif;\n",
        "    }\n",
        "    .text_cell_render h3 {\n",
        "        font-weight: 300;\n",
        "        font-size: 18pt;\n",
        "        line-height: 100%;\n",
        "        color:#447adb;\n",
        "        margin-bottom: 0.5em;\n",
        "        margin-top: 2em;\n",
        "        display: block;\n",
        "        white-space: nowrap;\n",
        "    }\n",
        "    h4 {\n",
        "        font-family: \"Open sans\",verdana,arial,sans-serif;\n",
        "    }\n",
        "    .text_cell_render h4 {\n",
        "        font-weight: 300;\n",
        "        font-size: 16pt;\n",
        "        color:#447adb;\n",
        "        margin-bottom: 0.5em;\n",
        "        margin-top: 0.5em;\n",
        "        display: block;\n",
        "        white-space: nowrap;\n",
        "    }\n",
        "    h5 {\n",
        "        font-family: \"Open sans\",verdana,arial,sans-serif;\n",
        "    }\n",
        "    .text_cell_render h5 {\n",
        "        font-weight: 300;\n",
        "        font-style: normal;\n",
        "        color: #1d3b84;\n",
        "        font-size: 16pt;\n",
        "        margin-bottom: 0em;\n",
        "        margin-top: 1.5em;\n",
        "        display: block;\n",
        "        white-space: nowrap;\n",
        "    }\n",
        "    div.text_cell_render{\n",
        "        font-family: \"Open sans\",verdana,arial,sans-serif;\n",
        "        line-height: 135%;\n",
        "        font-size: 125%;\n",
        "        width:750px;\n",
        "        margin-left:auto;\n",
        "        margin-right:auto;\n",
        "        text-align:justify;\n",
        "        text-justify:inter-word;\n",
        "    }\n",
        "    div.output_subarea.output_text.output_pyout {\n",
        "        overflow-x: auto;\n",
        "        overflow-y: scroll;\n",
        "        max-height: 300px;\n",
        "    }\n",
        "    div.output_subarea.output_stream.output_stdout.output_text {\n",
        "        overflow-x: auto;\n",
        "        overflow-y: scroll;\n",
        "        max-height: 300px;\n",
        "    }\n",
        "    div.output_subarea.output_html.rendered_html {\n",
        "        overflow-x: scroll;\n",
        "        max-width: 100%;\n",
        "      /*  overflow-y: scroll; */\n",
        "      /*  max-height: 300px;   */\n",
        "    }\n",
        "    code{\n",
        "      font-size: 78%;\n",
        "    }\n",
        "    .rendered_html code{\n",
        "        background-color: transparent;\n",
        "        white-space: inherit;   \n",
        "    }\n",
        "    ul{\n",
        "        /* color:#447adb; */  \n",
        "        margin: 2em;\n",
        "    }\n",
        "    ul li{\n",
        "        padding-left: 0.5em; \n",
        "        margin-bottom: 0.5em; \n",
        "        margin-top: 0.5em; \n",
        "    }\n",
        "    ul li li{\n",
        "        padding-left: 0.2em; \n",
        "        margin-bottom: 0.2em; \n",
        "        margin-top: 0.2em; \n",
        "    }\n",
        "    ol{\n",
        "        /* color:#447adb; */  \n",
        "        margin: 2em;\n",
        "    }\n",
        "    ol li{\n",
        "        padding-left: 0.5em; \n",
        "        margin-bottom: 0.5em; \n",
        "        margin-top: 0.5em; \n",
        "    }\n",
        "    /*.prompt{\n",
        "        display: None;\n",
        "    } */\n",
        "    ul li{\n",
        "        padding-left: 0.5em; \n",
        "        margin-bottom: 0.5em; \n",
        "        margin-top: 0.2em; \n",
        "    }\n",
        "    a:link{\n",
        "       font-weight: bold;\n",
        "       color:#447adb;\n",
        "    }\n",
        "    a:visited{\n",
        "       font-weight: bold;\n",
        "       color: #1d3b84;\n",
        "    }\n",
        "    a:hover{\n",
        "       font-weight: bold;\n",
        "       color: #1d3b84;\n",
        "    }\n",
        "    a:focus{\n",
        "       font-weight: bold;\n",
        "       color:#447adb;\n",
        "    }\n",
        "    a:active{\n",
        "       font-weight: bold;\n",
        "       color:#447adb;\n",
        "    }\n",
        "    .rendered_html :link {\n",
        "       text-decoration: none; \n",
        "    }\n",
        "    .rendered_html :hover {\n",
        "       text-decoration: none; \n",
        "    }\n",
        "    .rendered_html :visited {\n",
        "      text-decoration: none;\n",
        "    }\n",
        "    .rendered_html :focus {\n",
        "      text-decoration: none;\n",
        "    }\n",
        "    .rendered_html :active {\n",
        "      text-decoration: none;\n",
        "    }\n",
        "    .warning{\n",
        "        color: rgb( 240, 20, 20 )\n",
        "    } \n",
        "    hr {\n",
        "      color: #f3f3f3;\n",
        "      background-color: #f3f3f3;\n",
        "      height: 1px;\n",
        "    }\n",
        "    blockquote{\n",
        "      display:block;\n",
        "      background: #f3f3f3;\n",
        "      font-family: \"Open sans\",verdana,arial,sans-serif;\n",
        "      width:610px;\n",
        "      padding: 15px 15px 15px 15px;\n",
        "      text-align:justify;\n",
        "      text-justify:inter-word;\n",
        "      }\n",
        "      blockquote p {\n",
        "        margin-bottom: 0;\n",
        "        line-height: 125%;\n",
        "        font-size: 100%;\n",
        "        text-align: center;\n",
        "      }\n",
        "   /* element.style {\n",
        "    } */  \n",
        "</style>\n",
        "<script>\n",
        "    MathJax.Hub.Config({\n",
        "                        TeX: {\n",
        "                           extensions: [\"AMSmath.js\"]\n",
        "                           },\n",
        "                tex2jax: {\n",
        "                    inlineMath: [ [\"$\",\"$\"], [\"\\\\(\",\"\\\\)\"] ],\n",
        "                    displayMath: [ [\"$$\",\"$$\"], [\"\\\\[\",\"\\\\]\"] ]\n",
        "                },\n",
        "                displayAlign: \"center\", // Change this to \"center\" to center equations.\n",
        "                \"HTML-CSS\": {\n",
        "                    styles: {\".MathJax_Display\": {\"margin\": 4}}\n",
        "                }\n",
        "        });\n",
        "</script>\n"
       ],
       "metadata": {}
      }
     ],
     "input": [
      "# CSS styling within IPython notebook\n",
      "from IPython.display import display, HTML\n",
      "display(HTML(open('../custom.css').read()))"
     ],
     "language": "python",
     "prompt_number": 41
    }
   ]
  }
 ],
 "cells": [],
 "metadata": {
  "name": "",
  "signature": "sha256:cc1e3efe80b555564df74d4795abb30e753ea9ea35dce69c2e45712c187d02ff"
 },
 "nbformat": 3,
 "nbformat_minor": 0
}